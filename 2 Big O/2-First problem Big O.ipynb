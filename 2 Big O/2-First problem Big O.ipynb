{
 "cells": [
  {
   "cell_type": "markdown",
   "metadata": {},
   "source": [
    "# <> Big O: O(n)\n",
    "\n",
    "Implement a Python function called print_items.\n",
    "\n",
    "This function should take a single integer as an argument and print out a sequence of numbers from 0 up to, but not including, the provided integer.\n",
    "\n",
    "The function should use a for loop and Python's built-in range function to generate the sequence of numbers.\n",
    "\n",
    "The function signature should be: `def print_items(n):`\n",
    "\n",
    "Example:\n",
    "\n",
    "Here is an example of how your function should behave:\n",
    "\n",
    "If you call `print_items(10)`, your function should print:\n",
    "```\n",
    "0\n",
    "1\n",
    "2\n",
    "3\n",
    "4\n",
    "5\n",
    "6\n",
    "7\n",
    "8\n",
    "9\n",
    "```"
   ]
  },
  {
   "cell_type": "code",
   "execution_count": 1,
   "metadata": {},
   "outputs": [
    {
     "name": "stdout",
     "output_type": "stream",
     "text": [
      "0\n",
      "1\n",
      "2\n",
      "3\n",
      "4\n",
      "5\n",
      "6\n",
      "7\n",
      "8\n",
      "9\n"
     ]
    }
   ],
   "source": [
    "def print_items(n):\n",
    "    for i in range(n):\n",
    "        print(i)\n",
    "\n",
    "\n",
    "print_items(10)"
   ]
  },
  {
   "cell_type": "code",
   "execution_count": null,
   "metadata": {},
   "outputs": [],
   "source": []
  }
 ],
 "metadata": {
  "kernelspec": {
   "display_name": "Python 3",
   "language": "python",
   "name": "python3"
  },
  "language_info": {
   "name": "python",
   "version": "3.11.2"
  },
  "orig_nbformat": 4
 },
 "nbformat": 4,
 "nbformat_minor": 2
}
